{
 "metadata": {
  "language_info": {
   "codemirror_mode": {
    "name": "ipython",
    "version": 3
   },
   "file_extension": ".py",
   "mimetype": "text/x-python",
   "name": "python",
   "nbconvert_exporter": "python",
   "pygments_lexer": "ipython3",
   "version": 3
  },
  "orig_nbformat": 2
 },
 "nbformat": 4,
 "nbformat_minor": 2,
 "cells": [
  {
   "cell_type": "code",
   "execution_count": null,
   "metadata": {},
   "outputs": [],
   "source": [
    "!pip install -r requirements.txt "
   ]
  },
  {
   "cell_type": "code",
   "execution_count": null,
   "metadata": {},
   "outputs": [],
   "source": [
    "# Load packages\n",
    "import os\n",
    "import pandas as pd\n",
    "import numpy as np\n",
    "\n",
    "# Required for basic python plotting functionality\n",
    "import matplotlib.pyplot as plt\n",
    "\n",
    "# Advanced plotting functionality with seaborn\n",
    "import seaborn as sns\n",
    "\n",
    "sns.set(style=\"darkgrid\")  # can set style depending on how you'd like it to look"
   ]
  },
  {
   "cell_type": "code",
   "execution_count": null,
   "metadata": {},
   "outputs": [],
   "source": [
    "%%time\n",
    "df = pd.read_csv('data/cleaned_ppp_data.csv.gz', compression=\"gzip\", low_memory=False)"
   ]
  },
  {
   "cell_type": "code",
   "execution_count": null,
   "metadata": {},
   "outputs": [],
   "source": [
    "#Turning Date into Datetime\n",
    "df['DateApproved'] = pd.to_datetime(df['DateApproved'])                             \n",
    "df['LoanStatusDate'] = pd.to_datetime(df['LoanStatusDate'])"
   ]
  },
  {
   "cell_type": "code",
   "execution_count": null,
   "metadata": {},
   "outputs": [],
   "source": [
    "#Use groupby to group data Loan Approval date by year\n",
    "month_approval = df.groupby(df['DateApproved'].dt.to_period(freq ='M')).size()\n",
    "\n",
    "month_approval.plot(figsize=(15, 10))\n",
    "                    \n",
    "plt.xlabel('Date - Month and Year')\n",
    "plt.ylabel('Small Business Approval (Millions)')\n",
    "plt.title('PPP Loans Approval Decreses Sharply After April')"
   ]
  },
  {
   "cell_type": "code",
   "execution_count": null,
   "metadata": {},
   "outputs": [],
   "source": [
    "#BorrowerState - bar chart\n",
    "borrower_state = (\n",
    "    df.groupby([\"BorrowerState\"])\n",
    "    .size()\n",
    "    .reset_index(name=\"Sum of Approved Borrowers\")\n",
    "    .sort_values(by=\"Sum of Approved Borrowers\", ascending=False).head(10)\n",
    "    .plot.bar(x=\"BorrowerState\", y=\"Sum of Approved Borrowers\", figsize=(15, 10))\n",
    ")\n",
    " \n",
    "    \n",
    "borrower_state.set_xlabel(\"Borrower State\")\n",
    "borrower_state.set_ylabel(\"Total Amount of Borrowers (Millions)\")\n",
    "_ = borrower_state.set_title(\"California Is The #1 Borrower State\")"
   ]
  },
  {
   "cell_type": "code",
   "execution_count": null,
   "metadata": {},
   "outputs": [],
   "source": [
    "#BorrowerCity - bar chart\n",
    "borrower_city = (\n",
    "    df.groupby([\"BorrowerCity\"])\n",
    "    .size()\n",
    "    .reset_index(name=\"Sum of Approved Borrowers\")\n",
    "    .sort_values(by=\"Sum of Approved Borrowers\", ascending=False).head(10)\n",
    "    .plot.bar(x=\"BorrowerCity\", y=\"Sum of Approved Borrowers\", figsize=(15, 10))\n",
    ")\n",
    " \n",
    "    \n",
    "borrower_city.set_xlabel(\"Borrower City\")\n",
    "borrower_city.set_ylabel(\"Total Amount of Borrowers (Millions)\")\n",
    "_ = borrower_city.set_title(\"Chicago Is the #1 Borrower City\")"
   ]
  },
  {
   "cell_type": "code",
   "execution_count": null,
   "metadata": {},
   "outputs": [],
   "source": [
    "#BorrowerZip - bar chart\n",
    "borrower_zip = (\n",
    "    df.groupby([\"BorrowerZip\"])\n",
    "    .size()\n",
    "    .reset_index(name=\"Sum of Approved Borrowers\")\n",
    "    .sort_values(by=\"Sum of Approved Borrowers\", ascending=False).head(10)\n",
    "    .plot.bar(x=\"BorrowerZip\", y=\"Sum of Approved Borrowers\", figsize=(15, 10))\n",
    ")\n",
    " \n",
    "    \n",
    "borrower_zip.set_xlabel(\"Borrower Zip Code\")\n",
    "borrower_zip.set_ylabel(\"Total Amount of Borrowers (Millions)\")\n",
    "_ = borrower_zip.set_title(\"10001 Is The #1 Borrower Zip Code\")"
   ]
  },
  {
   "cell_type": "code",
   "execution_count": null,
   "metadata": {},
   "outputs": [],
   "source": [
    "#Race  - bar chart\n",
    "race = (\n",
    "    df.groupby([\"Race\"])\n",
    "    .size()\n",
    "    .reset_index(name=\"Sum of Approved Borrowers\")\n",
    "    .sort_values(by=\"Sum of Approved Borrowers\", ascending=False)\n",
    "    .plot.bar(x=\"Race\", y=\"Sum of Approved Borrowers\", figsize=(15, 10))\n",
    ")\n",
    " \n",
    "    \n",
    "race.set_xlabel(\"Race\")\n",
    "race.set_ylabel(\"Total Amount of Borrowers (Millions)\")\n",
    "_ = race.set_title(\"White People are the Most Approved Borrower\")"
   ]
  },
  {
   "cell_type": "code",
   "execution_count": null,
   "metadata": {},
   "outputs": [],
   "source": [
    "#Ethnicity - bar chart\n",
    "df_pie_1 = (\n",
    "    df.groupby([\"Ethnicity\"])\n",
    "    .size()\n",
    "    .reset_index(name=\"Sum of Small Businesses\")\n",
    "    .sort_values(by=\"Sum of Small Businesses\", ascending=False)\n",
    ")\n",
    "ethnicity = df_pie_1.plot.pie(y=\"Sum of Small Businesses\", labels=df_pie_1.Ethnicity, autopct=\"%1.2f%%\", figsize=(15, 10))\n",
    "_ = ethnicity.set_title(\"Most Borrowers Aren't Not Hispanic or Latino\")"
   ]
  }
 ]
}