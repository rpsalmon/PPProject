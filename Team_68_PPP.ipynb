{
 "cells": [
  {
   "cell_type": "markdown",
   "id": "7d03dfdf-187a-4557-857a-42e9874edb1b",
   "metadata": {},
   "source": [
    "# Team 68 Data Exploration"
   ]
  },
  {
   "cell_type": "markdown",
   "id": "57053ba4-1259-40b0-b3b4-225dd056b626",
   "metadata": {},
   "source": [
    "## Adwoa's method"
   ]
  },
  {
   "cell_type": "code",
   "execution_count": null,
   "id": "b4104829-7e43-4e37-8e3a-9297c2a046ed",
   "metadata": {},
   "outputs": [],
   "source": [
    "# Load packages\n",
    "import os\n",
    "import pandas as pd\n",
    "import numpy as np\n",
    "\n",
    "# Required for basic python plotting functionality\n",
    "import matplotlib.pyplot as plt\n",
    "\n",
    "# Advanced plotting functionality with seaborn\n",
    "import seaborn as sns"
   ]
  },
  {
   "cell_type": "markdown",
   "id": "add1c416-4261-41a6-9b5d-71febd9e9348",
   "metadata": {},
   "source": [
    "with open('data/public_up_to_150k_1.csv') as f:\n",
    "    public_150k_1=pd.read_csv(f, delimiter=';')\n",
    "    \n",
    "chunksize = 10 ** 8\n",
    "for chunk in pd.read_csv('data/public_up_to_150k_1.csv', chunksize=chunksize):\n",
    "    process(chunk)"
   ]
  },
  {
   "cell_type": "code",
   "execution_count": null,
   "id": "9e2af629-a113-43b1-9b8c-2edd935ed75a",
   "metadata": {},
   "outputs": [],
   "source": [
    "%%time\n",
    "#Reading public_up_to_150k_1 csv file\n",
    "row_count = 1000\n",
    "for chunk in pd.read_csv('public_up_to_150k_1.csv', chunksize=row_count): \n",
    "    df_1 = chunk # process it"
   ]
  },
  {
   "cell_type": "code",
   "execution_count": null,
   "id": "55c72233-f650-4c4a-ad77-9537379607b6",
   "metadata": {},
   "outputs": [],
   "source": [
    "df_1.shape"
   ]
  },
  {
   "cell_type": "code",
   "execution_count": null,
   "id": "bb62bb5b-5e9a-4100-a908-32b90962dfe0",
   "metadata": {},
   "outputs": [],
   "source": [
    "df = pd.read_csv('public_up_to_150k_1.csv')"
   ]
  },
  {
   "cell_type": "markdown",
   "id": "65f346e4-e99f-41fa-a41a-8556a7e6d7d0",
   "metadata": {},
   "source": [
    "There are 11 csv files to iterate through, plus the first with an irregular name."
   ]
  },
  {
   "cell_type": "code",
   "execution_count": null,
   "id": "63e98b17-d540-4a9e-bab0-369b909ba7d2",
   "metadata": {},
   "outputs": [],
   "source": [
    "%%time\n",
    "#Reading public_150k_plus csv file\n",
    "row_count = 1000\n",
    "for chunk in pd.read_csv('data/public_150k_plus.csv', chunksize=row_count): \n",
    "    df_12 = chunk # process it"
   ]
  },
  {
   "cell_type": "code",
   "execution_count": null,
   "id": "9f866c85-7b40-4135-a9d1-e868b517d227",
   "metadata": {},
   "outputs": [],
   "source": [
    "df_12.head(5)"
   ]
  },
  {
   "cell_type": "code",
   "execution_count": null,
   "id": "9cbc7193-172e-410a-8e82-135fb9d7a14e",
   "metadata": {},
   "outputs": [],
   "source": [
    "#Adding all the dataframes into list\n",
    "frames = [df_1, df_2, df_3, df_4, df_5, df_6, df_7, df_8, df_9, df_10, df_11, df_12]"
   ]
  },
  {
   "cell_type": "code",
   "execution_count": null,
   "id": "b9d9078c-1dbf-41fc-acb5-7137573f20e8",
   "metadata": {},
   "outputs": [],
   "source": [
    "#Using concat to merge all dataframe into one\n",
    "df = pd.concat(frames)"
   ]
  },
  {
   "cell_type": "code",
   "execution_count": null,
   "id": "de1f4b27-cc39-44ec-adc3-9e5f164ea471",
   "metadata": {},
   "outputs": [],
   "source": []
  },
  {
   "cell_type": "markdown",
   "id": "ac893f07-2ca2-48fa-a482-100de5de5c90",
   "metadata": {},
   "source": [
    "## Or Darnell's method"
   ]
  },
  {
   "cell_type": "code",
   "execution_count": null,
   "id": "d79505e9-2a53-4af4-a90f-2120ce9c7419",
   "metadata": {},
   "outputs": [],
   "source": [
    "import pandas as pd\n",
    "import matplotlib as plt\n",
    "import seaborn as sns\n",
    "import numpy as np \n",
    "import sqlite3\n",
    "from sqlalchemy import create_engine"
   ]
  },
  {
   "cell_type": "code",
   "execution_count": null,
   "id": "1b0a5cc1-c524-4689-b6e9-3a96c279ca0b",
   "metadata": {},
   "outputs": [],
   "source": [
    "print(pd.read_csv('ppploans.csv', nrows=2))"
   ]
  },
  {
   "cell_type": "code",
   "execution_count": null,
   "id": "cbb82930-3724-4080-8fef-575cce01ae4c",
   "metadata": {},
   "outputs": [],
   "source": [
    "csv_database = create_engine('sqlite:///csv_database.db')"
   ]
  },
  {
   "cell_type": "code",
   "execution_count": null,
   "id": "ee6b31df-ccee-4c45-86a1-9cac2e4ae124",
   "metadata": {},
   "outputs": [],
   "source": [
    "csz = 1000000\n",
    "i = 0 \n",
    "j = 0 "
   ]
  },
  {
   "cell_type": "markdown",
   "id": "afb2a0a2-e683-483e-9b43-5a85c147c07b",
   "metadata": {},
   "source": [
    "Not sure why it keeps looping here, it returns more index values than it should."
   ]
  },
  {
   "cell_type": "code",
   "execution_count": null,
   "id": "d8d3e43d-dd5f-43cb-85ba-221f7e2060b3",
   "metadata": {},
   "outputs": [],
   "source": [
    "for df in pd.read_csv('ppploans.csv', chunksize = csz, iterator=True): \n",
    "    df = df.rename(columns = {c: c.replace('', '') for c in df.columns})\n",
    "    df.index += j \n",
    "    \n",
    "    df.to_sql('data_use', csv_database, if_exists = 'append')\n",
    "    j = df.index[-1]+1\n",
    "    \n",
    "    print('| index: {}'.format(j))"
   ]
  },
  {
   "cell_type": "code",
   "execution_count": null,
   "id": "bee712bd-6db3-463e-abb8-5a74397e1e99",
   "metadata": {},
   "outputs": [],
   "source": [
    "df = pd.read_sql_query ('SELECT * FROM data_use', csv_database) "
   ]
  },
  {
   "cell_type": "code",
   "execution_count": null,
   "id": "a5126411-a80e-4a11-9df9-7430fb813b37",
   "metadata": {},
   "outputs": [],
   "source": []
  },
  {
   "cell_type": "markdown",
   "id": "18ac4e4e-a2e4-4591-a0ef-efe9a98db11d",
   "metadata": {},
   "source": [
    "## Richard's Method"
   ]
  },
  {
   "cell_type": "markdown",
   "id": "e14e188d-6613-4a3b-a07a-f553595ddb62",
   "metadata": {},
   "source": [
    "### Chunk size for loop iteration into a single df from a merged csv"
   ]
  },
  {
   "cell_type": "code",
   "execution_count": 1,
   "id": "57ef3c7a-d9d2-4c63-854d-4226dfd6c8b9",
   "metadata": {},
   "outputs": [],
   "source": [
    "# Load packages\n",
    "import os\n",
    "import pandas as pd\n",
    "import numpy as np\n",
    "\n",
    "# Required for basic python plotting functionality\n",
    "import matplotlib.pyplot as plt\n",
    "\n",
    "# Advanced plotting functionality with seaborn\n",
    "import seaborn as sns"
   ]
  },
  {
   "cell_type": "markdown",
   "id": "80b667d4-5cb3-4339-851f-da47a599b7f6",
   "metadata": {},
   "source": [
    "### Reading the aggregated file in chunks"
   ]
  },
  {
   "cell_type": "code",
   "execution_count": null,
   "id": "0d908645-828d-47df-b5d0-a1fbbd6d3e4f",
   "metadata": {},
   "outputs": [],
   "source": [
    "df_list = []\n",
    "row_count = 1000000\n",
    "df = pd.read_csv('ppploans.csv', chunksize=row_count)\n",
    "for x in df:\n",
    "    #df_filter = chunk_preprocessing(x)\n",
    "    df_list.append(x)\n",
    "df_concat = pd.concat(df_list)"
   ]
  },
  {
   "cell_type": "code",
   "execution_count": null,
   "id": "fa65bf44-5e9a-4bc0-8294-4334132d7d3c",
   "metadata": {},
   "outputs": [],
   "source": [
    "df_concat.shape"
   ]
  },
  {
   "cell_type": "markdown",
   "id": "e98da905-3acf-4f8f-925e-f1399e2f8b90",
   "metadata": {},
   "source": [
    "### Reading each of the files as they are saved from the PPP website"
   ]
  },
  {
   "cell_type": "code",
   "execution_count": 2,
   "id": "3da4abf8-7369-44de-a171-f6755b4d7e07",
   "metadata": {},
   "outputs": [
    {
     "name": "stdout",
     "output_type": "stream",
     "text": [
      "CPU times: user 5.01 s, sys: 382 ms, total: 5.39 s\n",
      "Wall time: 5.39 s\n"
     ]
    }
   ],
   "source": [
    "%%time\n",
    "df1 = pd.read_csv('public_150k_plus.csv')"
   ]
  },
  {
   "cell_type": "code",
   "execution_count": 3,
   "id": "f43019ea-2183-4930-a09c-c7bed2bc705a",
   "metadata": {},
   "outputs": [
    {
     "name": "stdout",
     "output_type": "stream",
     "text": [
      "CPU times: user 1min 17s, sys: 11.4 s, total: 1min 28s\n",
      "Wall time: 1min 31s\n"
     ]
    }
   ],
   "source": [
    "%%time\n",
    "vol = ['_1','_2','_3','_4','_5','_6','_7','_8','_9','_10','_11']\n",
    "\n",
    "vol_list = []\n",
    "for x in vol:\n",
    "    a= pd.read_csv(f'public_up_to_150k{x}.csv', low_memory= 0)\n",
    "    vol_list.append(a)\n",
    "\n",
    "df2 = pd.concat(vol_list , ignore_index = 1)"
   ]
  },
  {
   "cell_type": "code",
   "execution_count": 4,
   "id": "0ecdc9c6-3e34-4bf2-9459-a40521124976",
   "metadata": {},
   "outputs": [
    {
     "name": "stdout",
     "output_type": "stream",
     "text": [
      "CPU times: user 8.9 s, sys: 8.27 s, total: 17.2 s\n",
      "Wall time: 29.4 s\n"
     ]
    },
    {
     "data": {
      "text/plain": [
       "(10697219, 51)"
      ]
     },
     "execution_count": 4,
     "metadata": {},
     "output_type": "execute_result"
    }
   ],
   "source": [
    "%%time\n",
    "df_concat1 = pd.concat([df1,df2])\n",
    "df_concat1.shape"
   ]
  },
  {
   "cell_type": "code",
   "execution_count": null,
   "id": "b976a75e-5eb7-4b33-92c5-3b9af4a2c8f2",
   "metadata": {},
   "outputs": [],
   "source": [
    "df_concat1.head()"
   ]
  },
  {
   "cell_type": "markdown",
   "id": "1d0e3ad1-8d11-4085-8f28-8adcd9463303",
   "metadata": {},
   "source": [
    "This will tell you a few key columns and what some of the unique values are."
   ]
  },
  {
   "cell_type": "code",
   "execution_count": null,
   "id": "7bdf45c8-a370-4a3e-bf0e-5217d89a84cb",
   "metadata": {},
   "outputs": [],
   "source": [
    "df_c = df_concat1\n",
    "b = list(df_c)\n",
    "l = [3,6,7,8,10,11,12,13,14,16,18,23,33,34,35,36,37,38,39,40,41,42,43,48,49,50]"
   ]
  },
  {
   "cell_type": "code",
   "execution_count": null,
   "id": "95ca3300-2828-456a-95d7-88264350a02e",
   "metadata": {},
   "outputs": [],
   "source": [
    "for x in l:\n",
    "    print(b[x])\n",
    "    print(df_c[b[x]].unique())"
   ]
  },
  {
   "cell_type": "code",
   "execution_count": null,
   "id": "f8ac6c52-419a-4aa2-97e0-44423fae041d",
   "metadata": {},
   "outputs": [],
   "source": [
    "cols = ['LoanStatus',\n",
    " 'Term',\n",
    " 'SBAGuarantyPercentage',\n",
    " 'InitialApprovalAmount',\n",
    " 'CurrentApprovalAmount',\n",
    " 'UndisbursedAmount','ServicingLenderName',\n",
    "       'RuralUrbanIndicator','Race',\n",
    " 'Ethnicity','BusinessType','Gender',\n",
    " 'Veteran',\n",
    " 'NonProfit']"
   ]
  },
  {
   "cell_type": "code",
   "execution_count": null,
   "id": "c04711aa-be27-4465-b93a-8a2c2bc8848d",
   "metadata": {},
   "outputs": [],
   "source": [
    "%%time\n",
    "for x in l:\n",
    "    print(b[x])\n",
    "    print(df_c[b[x]].value_counts())"
   ]
  },
  {
   "cell_type": "code",
   "execution_count": null,
   "id": "e66e284a-9ac9-44c4-8387-8929111b8382",
   "metadata": {},
   "outputs": [],
   "source": [
    "for x in l:\n",
    "    print(b[x])"
   ]
  },
  {
   "cell_type": "code",
   "execution_count": null,
   "id": "fe908d23-ee98-4f9f-88e5-3075975f644b",
   "metadata": {},
   "outputs": [],
   "source": [
    "l1 = [3,6,7,10,11,12,16,18,23,33,34,35,36,37,38,39,40,41,42,43,48,49,50]\n",
    "#for x in l1:\n",
    "#    print(b[x])"
   ]
  },
  {
   "cell_type": "code",
   "execution_count": null,
   "id": "e890aac9-4590-4801-b75b-e8ec04afc6c6",
   "metadata": {},
   "outputs": [],
   "source": [
    "%%time\n",
    "for x in l:\n",
    "    plt.title(b[x])\n",
    "    df_c[b[x]].value_counts().plot.bar()"
   ]
  },
  {
   "cell_type": "code",
   "execution_count": null,
   "id": "75a4fe88-5f5a-496b-9d72-f84615ac171c",
   "metadata": {},
   "outputs": [],
   "source": [
    "plt.title(b[48])\n",
    "df_c[b[48]].value_counts().plot.bar()"
   ]
  },
  {
   "cell_type": "code",
   "execution_count": 6,
   "id": "08a0876e-235f-4223-9efc-ad54514d39ec",
   "metadata": {},
   "outputs": [
    {
     "name": "stdout",
     "output_type": "stream",
     "text": [
      "CPU times: user 17.5 s, sys: 3.57 s, total: 21.1 s\n",
      "Wall time: 21.5 s\n"
     ]
    }
   ],
   "source": [
    "%%time\n",
    "#Turn DateApproved and LoanStatusDate to Datetime\n",
    "df_c == df_concat1\n",
    "df_c['DateApproved'] = pd.to_datetime(df_c['DateApproved'])\n",
    "df_c['LoanStatusDate'] = pd.to_datetime(df_c['LoanStatusDate'])"
   ]
  },
  {
   "cell_type": "code",
   "execution_count": 7,
   "id": "4f1511b7-0e10-4977-b776-09c9ad4ee532",
   "metadata": {},
   "outputs": [
    {
     "name": "stdout",
     "output_type": "stream",
     "text": [
      "CPU times: user 56.7 s, sys: 9.25 s, total: 1min 5s\n",
      "Wall time: 1min 9s\n"
     ]
    }
   ],
   "source": [
    "%%time\n",
    "# Store columns in a list\n",
    "cols_to_uppercase = ['BorrowerCity',\n",
    "                      'BorrowerState',\n",
    "                      'LoanStatus',\n",
    "                     'FranchiseName',\n",
    "                     'ServicingLenderName',\n",
    "                      'ServicingLenderCity',\n",
    "                      'ServicingLenderState',\n",
    "                       'RuralUrbanIndicator',\n",
    "                      'HubzoneIndicator',\n",
    "                      'LMIIndicator',\n",
    "                     'BusinessAgeDescription',\n",
    "                      'ProjectCity',\n",
    "                      'ProjectCountyName',\n",
    "                     'Race',\n",
    "                     'Ethnicity',\n",
    "                     'BusinessType',\n",
    "                     'OriginatingLender',\n",
    "                     'OriginatingLenderCity',\n",
    "                     'OriginatingLenderState',\n",
    "                     'Gender',\n",
    "                     'Veteran',\n",
    "                     'NonProfit']\n",
    "\n",
    "#Turn colums into string type\n",
    "for c in cols_to_uppercase:\n",
    "    df_c[c] = df_c[c].astype(str)\n",
    "\n",
    "#Uppercase strings in columns\n",
    "\n",
    "#for c in cols_to_uppercase:\n",
    "for b in cols_to_uppercase:\n",
    "    df_c[b] = df_c[b].str.upper()"
   ]
  },
  {
   "cell_type": "code",
   "execution_count": 8,
   "id": "9417d4e7-743d-453a-8e91-f0dc7e56037c",
   "metadata": {},
   "outputs": [
    {
     "data": {
      "text/plain": [
       "0    325510\n",
       "1    561730\n",
       "2         n\n",
       "3    236115\n",
       "4    484210\n",
       "Name: NAICSCode, dtype: object"
      ]
     },
     "execution_count": 8,
     "metadata": {},
     "output_type": "execute_result"
    }
   ],
   "source": [
    "#Change NAICS Code to string\n",
    "df_c['NAICSCode'] = df_c['NAICSCode'].astype(str)\n",
    "#Remove the \".0\" from NAICS\n",
    "df_c['NAICSCode'] = df_c['NAICSCode'].str.slice(0, -2)\n",
    "df_c['NAICSCode'].head()"
   ]
  },
  {
   "cell_type": "code",
   "execution_count": 9,
   "id": "b868c333-093c-499a-afc1-37771b77d8f7",
   "metadata": {},
   "outputs": [
    {
     "data": {
      "text/plain": [
       "0\n",
       "2017 NAICS Code                     2017 NAICS Title\n",
       "NaN                                              NaN\n",
       "111110                               SOYBEAN FARMING\n",
       "111120             OILSEED (EXCEPT SOYBEAN) FARMING \n",
       "111130                     DRY PEA AND BEAN FARMING \n",
       "Name: 1, dtype: object"
      ]
     },
     "execution_count": 9,
     "metadata": {},
     "output_type": "execute_result"
    }
   ],
   "source": [
    "#Reading NAICS csv file and turning into dict\n",
    "naics_dict = pd.read_csv('PPProject/Main/PPProject/2017_NAICS_Codes.csv'\n",
    "                         , header=None, index_col=0, squeeze=True)#.to_dict()\n",
    "#Look at the NAICS dict\n",
    "naics_dict.head()"
   ]
  },
  {
   "cell_type": "code",
   "execution_count": null,
   "id": "9ed94337-9747-42dc-b2a8-7c9e7fcf3c5e",
   "metadata": {},
   "outputs": [],
   "source": [
    "%%time\n",
    "df_c['NAICSCode'] = df_c['NAICSCode'].replace(naics_dict)"
   ]
  },
  {
   "cell_type": "code",
   "execution_count": 16,
   "id": "9f9352ca-9677-4cc9-9c8d-14eb031270c2",
   "metadata": {},
   "outputs": [
    {
     "data": {
      "text/html": [
       "<div>\n",
       "<style scoped>\n",
       "    .dataframe tbody tr th:only-of-type {\n",
       "        vertical-align: middle;\n",
       "    }\n",
       "\n",
       "    .dataframe tbody tr th {\n",
       "        vertical-align: top;\n",
       "    }\n",
       "\n",
       "    .dataframe thead th {\n",
       "        text-align: right;\n",
       "    }\n",
       "</style>\n",
       "<table border=\"1\" class=\"dataframe\">\n",
       "  <thead>\n",
       "    <tr style=\"text-align: right;\">\n",
       "      <th></th>\n",
       "      <th>2017 NAICS Code</th>\n",
       "      <th>2017 NAICS Title</th>\n",
       "    </tr>\n",
       "  </thead>\n",
       "  <tbody>\n",
       "    <tr>\n",
       "      <th>1</th>\n",
       "      <td>NaN</td>\n",
       "      <td>NaN</td>\n",
       "    </tr>\n",
       "    <tr>\n",
       "      <th>2</th>\n",
       "      <td>111110.0</td>\n",
       "      <td>SOYBEAN FARMING</td>\n",
       "    </tr>\n",
       "    <tr>\n",
       "      <th>3</th>\n",
       "      <td>111120.0</td>\n",
       "      <td>OILSEED (EXCEPT SOYBEAN) FARMING</td>\n",
       "    </tr>\n",
       "    <tr>\n",
       "      <th>4</th>\n",
       "      <td>111130.0</td>\n",
       "      <td>DRY PEA AND BEAN FARMING</td>\n",
       "    </tr>\n",
       "    <tr>\n",
       "      <th>5</th>\n",
       "      <td>111140.0</td>\n",
       "      <td>WHEAT FARMING</td>\n",
       "    </tr>\n",
       "  </tbody>\n",
       "</table>\n",
       "</div>"
      ],
      "text/plain": [
       "0  2017 NAICS Code                   2017 NAICS Title\n",
       "1              NaN                                NaN\n",
       "2         111110.0                    SOYBEAN FARMING\n",
       "3         111120.0  OILSEED (EXCEPT SOYBEAN) FARMING \n",
       "4         111130.0          DRY PEA AND BEAN FARMING \n",
       "5         111140.0                      WHEAT FARMING"
      ]
     },
     "execution_count": 16,
     "metadata": {},
     "output_type": "execute_result"
    }
   ],
   "source": [
    "n_d = naics_dict.to_frame().reset_index()\n",
    "n_d.columns = n_d.iloc[0]\n",
    "n_d = n_d[1:]\n",
    "n_d['2017 NAICS Code'] = n_d['2017 NAICS Code'].astype('float64')\n",
    "n_d.head()"
   ]
  },
  {
   "cell_type": "code",
   "execution_count": 17,
   "id": "34e62636-1d79-49e7-93db-34ce384e3b0f",
   "metadata": {},
   "outputs": [
    {
     "name": "stdout",
     "output_type": "stream",
     "text": [
      "CPU times: user 7.67 s, sys: 11.8 s, total: 19.4 s\n",
      "Wall time: 45.3 s\n"
     ]
    }
   ],
   "source": [
    "%%time \n",
    "df_c1 = df_concat1\n",
    "df_c1['NAICSCode'] = df_c1['NAICSCode'].replace('n',0).astype('float64')\n",
    "df_c1['DateApproved'] = pd.to_datetime(df_c1['DateApproved'])\n",
    "df_c1['LoanStatusDate'] = pd.to_datetime(df_c1['LoanStatusDate'])\n",
    "result = pd.merge(df_c1,n_d, how = 'left', left_on = 'NAICSCode', right_on = '2017 NAICS Code')\n"
   ]
  },
  {
   "cell_type": "code",
   "execution_count": 18,
   "id": "04de9c98-6343-4556-a3f8-4bab00c0e3df",
   "metadata": {},
   "outputs": [
    {
     "data": {
      "text/html": [
       "<div>\n",
       "<style scoped>\n",
       "    .dataframe tbody tr th:only-of-type {\n",
       "        vertical-align: middle;\n",
       "    }\n",
       "\n",
       "    .dataframe tbody tr th {\n",
       "        vertical-align: top;\n",
       "    }\n",
       "\n",
       "    .dataframe thead th {\n",
       "        text-align: right;\n",
       "    }\n",
       "</style>\n",
       "<table border=\"1\" class=\"dataframe\">\n",
       "  <thead>\n",
       "    <tr style=\"text-align: right;\">\n",
       "      <th></th>\n",
       "      <th>LoanNumber</th>\n",
       "      <th>DateApproved</th>\n",
       "      <th>SBAOfficeCode</th>\n",
       "      <th>ProcessingMethod</th>\n",
       "      <th>BorrowerName</th>\n",
       "      <th>BorrowerAddress</th>\n",
       "      <th>BorrowerCity</th>\n",
       "      <th>BorrowerState</th>\n",
       "      <th>BorrowerZip</th>\n",
       "      <th>LoanStatusDate</th>\n",
       "      <th>...</th>\n",
       "      <th>BusinessType</th>\n",
       "      <th>OriginatingLenderLocationID</th>\n",
       "      <th>OriginatingLender</th>\n",
       "      <th>OriginatingLenderCity</th>\n",
       "      <th>OriginatingLenderState</th>\n",
       "      <th>Gender</th>\n",
       "      <th>Veteran</th>\n",
       "      <th>NonProfit</th>\n",
       "      <th>2017 NAICS Code</th>\n",
       "      <th>2017 NAICS Title</th>\n",
       "    </tr>\n",
       "  </thead>\n",
       "  <tbody>\n",
       "    <tr>\n",
       "      <th>0</th>\n",
       "      <td>9547507704</td>\n",
       "      <td>2020-05-01</td>\n",
       "      <td>464.0</td>\n",
       "      <td>PPP</td>\n",
       "      <td>SUMTER COATINGS, INC.</td>\n",
       "      <td>2410 Highway 15 South</td>\n",
       "      <td>SUMTER</td>\n",
       "      <td>NAN</td>\n",
       "      <td>29150-9662</td>\n",
       "      <td>2020-12-18</td>\n",
       "      <td>...</td>\n",
       "      <td>CORPORATION</td>\n",
       "      <td>19248.0</td>\n",
       "      <td>SYNOVUS BANK</td>\n",
       "      <td>COLUMBUS</td>\n",
       "      <td>GA</td>\n",
       "      <td>UNANSWERED</td>\n",
       "      <td>UNANSWERED</td>\n",
       "      <td>NAN</td>\n",
       "      <td>325510.0</td>\n",
       "      <td>PAINT AND COATING MANUFACTURING</td>\n",
       "    </tr>\n",
       "    <tr>\n",
       "      <th>1</th>\n",
       "      <td>9777677704</td>\n",
       "      <td>2020-05-01</td>\n",
       "      <td>464.0</td>\n",
       "      <td>PPP</td>\n",
       "      <td>PLEASANT PLACES, INC.</td>\n",
       "      <td>7684 Southrail Road</td>\n",
       "      <td>NORTH CHARLESTON</td>\n",
       "      <td>NAN</td>\n",
       "      <td>29420-9000</td>\n",
       "      <td>NaT</td>\n",
       "      <td>...</td>\n",
       "      <td>SOLE PROPRIETORSHIP</td>\n",
       "      <td>19248.0</td>\n",
       "      <td>SYNOVUS BANK</td>\n",
       "      <td>COLUMBUS</td>\n",
       "      <td>GA</td>\n",
       "      <td>MALE OWNED</td>\n",
       "      <td>NON-VETERAN</td>\n",
       "      <td>NAN</td>\n",
       "      <td>561730.0</td>\n",
       "      <td>LANDSCAPING SERVICES</td>\n",
       "    </tr>\n",
       "    <tr>\n",
       "      <th>2</th>\n",
       "      <td>5791407702</td>\n",
       "      <td>2020-05-01</td>\n",
       "      <td>1013.0</td>\n",
       "      <td>PPP</td>\n",
       "      <td>BOYER CHILDREN'S CLINIC</td>\n",
       "      <td>1850 BOYER AVE E</td>\n",
       "      <td>SEATTLE</td>\n",
       "      <td>NAN</td>\n",
       "      <td>98112-2922</td>\n",
       "      <td>2021-03-17</td>\n",
       "      <td>...</td>\n",
       "      <td>NON-PROFIT ORGANIZATION</td>\n",
       "      <td>9551.0</td>\n",
       "      <td>BANK OF AMERICA, NATIONAL ASSOCIATION</td>\n",
       "      <td>CHARLOTTE</td>\n",
       "      <td>NC</td>\n",
       "      <td>UNANSWERED</td>\n",
       "      <td>UNANSWERED</td>\n",
       "      <td>Y</td>\n",
       "      <td>NaN</td>\n",
       "      <td>NaN</td>\n",
       "    </tr>\n",
       "    <tr>\n",
       "      <th>3</th>\n",
       "      <td>6223567700</td>\n",
       "      <td>2020-05-01</td>\n",
       "      <td>920.0</td>\n",
       "      <td>PPP</td>\n",
       "      <td>KIRTLEY CONSTRUCTION INC</td>\n",
       "      <td>1661 MARTIN RANCH RD</td>\n",
       "      <td>SAN BERNARDINO</td>\n",
       "      <td>NAN</td>\n",
       "      <td>92407-1740</td>\n",
       "      <td>NaT</td>\n",
       "      <td>...</td>\n",
       "      <td>CORPORATION</td>\n",
       "      <td>9551.0</td>\n",
       "      <td>BANK OF AMERICA, NATIONAL ASSOCIATION</td>\n",
       "      <td>CHARLOTTE</td>\n",
       "      <td>NC</td>\n",
       "      <td>UNANSWERED</td>\n",
       "      <td>UNANSWERED</td>\n",
       "      <td>NAN</td>\n",
       "      <td>236115.0</td>\n",
       "      <td>NEW SINGLE-FAMILY HOUSING CONSTRUCTION (EXCEPT...</td>\n",
       "    </tr>\n",
       "    <tr>\n",
       "      <th>4</th>\n",
       "      <td>9662437702</td>\n",
       "      <td>2020-05-01</td>\n",
       "      <td>101.0</td>\n",
       "      <td>PPP</td>\n",
       "      <td>AERO BOX LLC</td>\n",
       "      <td>NaN</td>\n",
       "      <td>NAN</td>\n",
       "      <td>NAN</td>\n",
       "      <td>NaN</td>\n",
       "      <td>NaT</td>\n",
       "      <td>...</td>\n",
       "      <td>NAN</td>\n",
       "      <td>57328.0</td>\n",
       "      <td>THE HUNTINGTON NATIONAL BANK</td>\n",
       "      <td>COLUMBUS</td>\n",
       "      <td>OH</td>\n",
       "      <td>UNANSWERED</td>\n",
       "      <td>UNANSWERED</td>\n",
       "      <td>NAN</td>\n",
       "      <td>484210.0</td>\n",
       "      <td>USED HOUSEHOLD AND OFFICE GOODS MOVING</td>\n",
       "    </tr>\n",
       "  </tbody>\n",
       "</table>\n",
       "<p>5 rows × 53 columns</p>\n",
       "</div>"
      ],
      "text/plain": [
       "   LoanNumber DateApproved  SBAOfficeCode ProcessingMethod  \\\n",
       "0  9547507704   2020-05-01          464.0              PPP   \n",
       "1  9777677704   2020-05-01          464.0              PPP   \n",
       "2  5791407702   2020-05-01         1013.0              PPP   \n",
       "3  6223567700   2020-05-01          920.0              PPP   \n",
       "4  9662437702   2020-05-01          101.0              PPP   \n",
       "\n",
       "               BorrowerName        BorrowerAddress      BorrowerCity  \\\n",
       "0     SUMTER COATINGS, INC.  2410 Highway 15 South            SUMTER   \n",
       "1     PLEASANT PLACES, INC.    7684 Southrail Road  NORTH CHARLESTON   \n",
       "2   BOYER CHILDREN'S CLINIC       1850 BOYER AVE E           SEATTLE   \n",
       "3  KIRTLEY CONSTRUCTION INC   1661 MARTIN RANCH RD    SAN BERNARDINO   \n",
       "4              AERO BOX LLC                    NaN               NAN   \n",
       "\n",
       "  BorrowerState BorrowerZip LoanStatusDate  ...             BusinessType  \\\n",
       "0           NAN  29150-9662     2020-12-18  ...              CORPORATION   \n",
       "1           NAN  29420-9000            NaT  ...      SOLE PROPRIETORSHIP   \n",
       "2           NAN  98112-2922     2021-03-17  ...  NON-PROFIT ORGANIZATION   \n",
       "3           NAN  92407-1740            NaT  ...              CORPORATION   \n",
       "4           NAN         NaN            NaT  ...                      NAN   \n",
       "\n",
       "   OriginatingLenderLocationID                      OriginatingLender  \\\n",
       "0                      19248.0                           SYNOVUS BANK   \n",
       "1                      19248.0                           SYNOVUS BANK   \n",
       "2                       9551.0  BANK OF AMERICA, NATIONAL ASSOCIATION   \n",
       "3                       9551.0  BANK OF AMERICA, NATIONAL ASSOCIATION   \n",
       "4                      57328.0           THE HUNTINGTON NATIONAL BANK   \n",
       "\n",
       "   OriginatingLenderCity  OriginatingLenderState      Gender      Veteran  \\\n",
       "0               COLUMBUS                      GA  UNANSWERED   UNANSWERED   \n",
       "1               COLUMBUS                      GA  MALE OWNED  NON-VETERAN   \n",
       "2              CHARLOTTE                      NC  UNANSWERED   UNANSWERED   \n",
       "3              CHARLOTTE                      NC  UNANSWERED   UNANSWERED   \n",
       "4               COLUMBUS                      OH  UNANSWERED   UNANSWERED   \n",
       "\n",
       "   NonProfit 2017 NAICS Code  \\\n",
       "0        NAN        325510.0   \n",
       "1        NAN        561730.0   \n",
       "2          Y             NaN   \n",
       "3        NAN        236115.0   \n",
       "4        NAN        484210.0   \n",
       "\n",
       "                                    2017 NAICS Title  \n",
       "0                    PAINT AND COATING MANUFACTURING  \n",
       "1                               LANDSCAPING SERVICES  \n",
       "2                                                NaN  \n",
       "3  NEW SINGLE-FAMILY HOUSING CONSTRUCTION (EXCEPT...  \n",
       "4             USED HOUSEHOLD AND OFFICE GOODS MOVING  \n",
       "\n",
       "[5 rows x 53 columns]"
      ]
     },
     "execution_count": 18,
     "metadata": {},
     "output_type": "execute_result"
    }
   ],
   "source": [
    "result.head()"
   ]
  },
  {
   "cell_type": "code",
   "execution_count": null,
   "id": "53cd38bf-bfcb-4688-a634-14b822d5efcb",
   "metadata": {},
   "outputs": [],
   "source": []
  },
  {
   "cell_type": "code",
   "execution_count": null,
   "id": "5375b375-f230-42e9-804b-0aad677fd41d",
   "metadata": {},
   "outputs": [],
   "source": []
  }
 ],
 "metadata": {
  "kernelspec": {
   "display_name": "Python 3",
   "language": "python",
   "name": "python3"
  },
  "language_info": {
   "codemirror_mode": {
    "name": "ipython",
    "version": 3
   },
   "file_extension": ".py",
   "mimetype": "text/x-python",
   "name": "python",
   "nbconvert_exporter": "python",
   "pygments_lexer": "ipython3",
   "version": "3.8.8"
  }
 },
 "nbformat": 4,
 "nbformat_minor": 5
}
